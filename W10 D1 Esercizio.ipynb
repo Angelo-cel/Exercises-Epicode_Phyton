{
 "cells": [
  {
   "cell_type": "code",
   "execution_count": null,
   "id": "8463aec0-cd51-414b-b50b-60af1ef56860",
   "metadata": {},
   "outputs": [],
   "source": [
    "Esercizio \n",
    "Abbiamo una lista di liste: \n",
    "mat = [[0, 1, 2, 3, 4], [5, 6, 7, 8, 9], [10, 11, 12, 13, 14]] \n",
    "Che tipo di struttura dati o matematica potrebbe rappresentare? \n",
    "Notare che tutte le liste \"interne\" sono della stessa dimensione.\n",
    "Come facciamo per accedere ad un elemento in particolare?"
   ]
  },
  {
   "cell_type": "code",
   "execution_count": null,
   "id": "a50e0712-4960-46e4-8a2d-1cad6605b16e",
   "metadata": {},
   "outputs": [],
   "source": [
    "RISPOSTE:\n",
    "La struttura dati rappresenta una matrice bidimensionale, \n",
    "dove ogni lista interna corrisponde a una riga della matrice. \n",
    "Gli elementi sono organizzati in righe e colonne, simili a una griglia numerata.\n",
    "\n",
    "\n",
    "Per accedere ad un elemento in particolare:"
   ]
  },
  {
   "cell_type": "code",
   "execution_count": 5,
   "id": "426c96b7-f7ca-448f-b1d1-83ce929a6f82",
   "metadata": {},
   "outputs": [
    {
     "name": "stdout",
     "output_type": "stream",
     "text": [
      "9\n"
     ]
    }
   ],
   "source": [
    "mat = [[0, 1, 2, 3, 4], [5, 6, 7, 8, 9], [10, 11, 12, 13, 14]]\n",
    "print(mat[1][4])"
   ]
  },
  {
   "cell_type": "code",
   "execution_count": 6,
   "id": "0e81e9d3-79c3-4ce3-9aa8-3b879c7d0d95",
   "metadata": {},
   "outputs": [],
   "source": [
    "import math"
   ]
  },
  {
   "cell_type": "code",
   "execution_count": 7,
   "id": "754cf111-dffa-4670-b29f-4c5b8151c1e2",
   "metadata": {},
   "outputs": [
    {
     "data": {
      "text/plain": [
       "0.14987720966295234"
      ]
     },
     "execution_count": 7,
     "metadata": {},
     "output_type": "execute_result"
    }
   ],
   "source": [
    "math.sin(19)"
   ]
  },
  {
   "cell_type": "code",
   "execution_count": 8,
   "id": "591903b9-b9ce-4eff-b32d-05cb7358b027",
   "metadata": {},
   "outputs": [
    {
     "data": {
      "text/plain": [
       "0.9887046181866692"
      ]
     },
     "execution_count": 8,
     "metadata": {},
     "output_type": "execute_result"
    }
   ],
   "source": [
    "math.cos(19)"
   ]
  },
  {
   "cell_type": "code",
   "execution_count": 9,
   "id": "a9691c5d-274d-412f-8305-5a3132c43f9b",
   "metadata": {},
   "outputs": [
    {
     "data": {
      "text/plain": [
       "121645100408832000"
      ]
     },
     "execution_count": 9,
     "metadata": {},
     "output_type": "execute_result"
    }
   ],
   "source": [
    "math.factorial(19)"
   ]
  },
  {
   "cell_type": "code",
   "execution_count": 12,
   "id": "3bbe5c11-1ec2-46aa-b508-5ff761c7d095",
   "metadata": {},
   "outputs": [
    {
     "data": {
      "text/plain": [
       "3.141592653589793"
      ]
     },
     "execution_count": 12,
     "metadata": {},
     "output_type": "execute_result"
    }
   ],
   "source": [
    "math.pi"
   ]
  },
  {
   "cell_type": "code",
   "execution_count": null,
   "id": "c94fdf5d-9a5d-4702-82c7-93fd52d9ec1d",
   "metadata": {},
   "outputs": [],
   "source": [
    "La variabile pi è il valore numerico di pi greco"
   ]
  },
  {
   "cell_type": "code",
   "execution_count": 13,
   "id": "3c317c3d-cc03-4aa9-8ea1-490aa31f3f0b",
   "metadata": {},
   "outputs": [
    {
     "data": {
      "text/plain": [
       "180.0"
      ]
     },
     "execution_count": 13,
     "metadata": {},
     "output_type": "execute_result"
    }
   ],
   "source": [
    "math.degrees(math.pi)"
   ]
  },
  {
   "cell_type": "code",
   "execution_count": 15,
   "id": "dd8f29a7-771c-4bce-980b-4e4431ecaff4",
   "metadata": {},
   "outputs": [
    {
     "name": "stdout",
     "output_type": "stream",
     "text": [
      "Help on built-in function degrees in module math:\n",
      "\n",
      "degrees(x, /)\n",
      "    Convert angle x from radians to degrees.\n",
      "\n"
     ]
    }
   ],
   "source": [
    "help(math.degrees)"
   ]
  },
  {
   "cell_type": "code",
   "execution_count": 40,
   "id": "028db55a-bd16-4af9-8ade-26218ba1930d",
   "metadata": {},
   "outputs": [
    {
     "data": {
      "text/plain": [
       "array([2000, 5500, 7200, 4320, 1280, 1900, 2500, 3900, 6410, 8150, 7100,\n",
       "       5350])"
      ]
     },
     "execution_count": 40,
     "metadata": {},
     "output_type": "execute_result"
    }
   ],
   "source": [
    "import numpy as np\n",
    "lst = [2000, 5500, 7200, 4320, 1280, 1900, 2500, 3900, 6410, 8150, 7100, 5350]\n",
    "np.array(lst)\n"
   ]
  },
  {
   "cell_type": "code",
   "execution_count": 42,
   "id": "de433bf6-4922-4edd-a738-f320ddc0bd99",
   "metadata": {},
   "outputs": [
    {
     "name": "stdout",
     "output_type": "stream",
     "text": [
      "Vendita massima mensile: 8150\n",
      "Vendita minima mensile: 1280\n",
      "Vendite mensili maggiori di 4999 oggetti: [5500 7200 6410 8150 7100 5350]\n",
      "Numero di vendite mensili maggiori di 4999 oggetti: 6\n",
      "Vendite mensili minori di 3000 oggetti: [2000 1280 1900 2500]\n",
      "Media delle vendite mensili: 4634.166666666667\n"
     ]
    }
   ],
   "source": [
    "import numpy as np\n",
    "\n",
    "# Lista delle vendite mensili\n",
    "lst = [2000, 5500, 7200, 4320, 1280, 1900, 2500, 3900, 6410, 8150, 7100, 5350]\n",
    "\n",
    "# Trasformazione della lista in un array NumPy\n",
    "lst = np.array(lst)\n",
    "\n",
    "# Vendita massima mensile\n",
    "vendita_massima = np.max(lst)\n",
    "print(\"Vendita massima mensile:\", vendita_massima)\n",
    "\n",
    "# Vendita minima mensile\n",
    "vendita_minima = np.min(lst)\n",
    "print(\"Vendita minima mensile:\", vendita_minima)\n",
    "\n",
    "# Vendite mensili maggiori di 4999 oggetti\n",
    "vendite_maggiori_4999 = lst[lst > 4999]\n",
    "print(\"Vendite mensili maggiori di 4999 oggetti:\", vendite_maggiori_4999)\n",
    "print(\"Numero di vendite mensili maggiori di 4999 oggetti:\", len(vendite_maggiori_4999))\n",
    "\n",
    "# Vendite mensili minori di 3000 oggetti\n",
    "vendite_minori_3000 = lst[lst < 3000]\n",
    "print(\"Vendite mensili minori di 3000 oggetti:\", vendite_minori_3000)\n",
    "\n",
    "# Media delle vendite mensili\n",
    "media_vendite = np.mean(lst)\n",
    "print(\"Media delle vendite mensili:\", media_vendite)\n"
   ]
  },
  {
   "cell_type": "code",
   "execution_count": 50,
   "id": "a1431e02-ac53-416d-bc5f-9b47745a20b7",
   "metadata": {},
   "outputs": [
    {
     "data": {
      "text/plain": [
       "12000"
      ]
     },
     "execution_count": 50,
     "metadata": {},
     "output_type": "execute_result"
    }
   ],
   "source": [
    "import pandas as pd\n",
    "fatturati_dict = {1997: 12_000, 1998: 15_000, \n",
    "                  1999: 20_000, 2000: 23_000,\n",
    "                  2001: 25_000, 2002: 17_000, \n",
    "                  2003: 14_000, 2004: 21_000}\n",
    "fatturati_series = pd.Series([12_000, 15_000, \n",
    "                              20_000, 23_000, \n",
    "                              25_000, 17_000,\n",
    "                              14_000, 21_000], index=range(1997, 2005))\n",
    "\n",
    "\n",
    "fatturati_series[1997] \n"
   ]
  },
  {
   "cell_type": "code",
   "execution_count": null,
   "id": "cbfec665-d40a-4a3d-bbb9-863296bb4bf5",
   "metadata": {},
   "outputs": [],
   "source": [
    "Dunque qual è la differenza tra i due tipi di dato?\n",
    "La principale differenza tra un dizionario e un oggetto Series di pandas risiede nella loro struttura e nell'accesso ai dati:\n",
    "il dizionario associa chiavi a valori.\n",
    "l'oggetto Series è una struttura dati unidimensionale che contiene valori ordinati associati a un indice\n",
    "\n",
    "\n",
    "Cosa potremmo fare con la Series che non possiamo fare con il dizionario?\n",
    "Con un oggetto Series di pandas, possiamo eseguire operazioni di analisi dati avanzate come indicizzazione avanzata,\n",
    "operazioni vettorialiali, calcolo di statistiche e aggregazioni, e visualizzazione dei dati, \n",
    "che non sono disponibili direttamente con un dizionario."
   ]
  },
  {
   "cell_type": "code",
   "execution_count": 51,
   "id": "ca5def3f-8160-4d23-ad47-7015da6d8096",
   "metadata": {},
   "outputs": [
    {
     "name": "stdout",
     "output_type": "stream",
     "text": [
      "[ 200  400  600  800 1000 1200 1400 1600 1800 2000]\n"
     ]
    }
   ],
   "source": [
    "import numpy as np\n",
    "\n",
    "stipendi = np.array([100, 200, 300, 400, 500, 600, 700, 800, 900, 1000])\n",
    "\n",
    "# Raddoppiare gli stipendi utilizzando un ciclo for\n",
    "for i in range(len(stipendi)):\n",
    "    stipendi[i] *= 2\n",
    "\n",
    "print(stipendi)"
   ]
  },
  {
   "cell_type": "code",
   "execution_count": 54,
   "id": "ecd11dc2-1638-4307-b356-a0990c9642cc",
   "metadata": {},
   "outputs": [
    {
     "name": "stdout",
     "output_type": "stream",
     "text": [
      "[ 200  400  600  800 1000 1200 1400 1600 1800 2000]\n"
     ]
    }
   ],
   "source": [
    "import numpy as np\n",
    "\n",
    "stipendi = np.array([100, 200, 300, 400, 500, 600, 700, 800, 900, 1000])\n",
    "\n",
    "stipendi *= 2\n",
    "print(stipendi)"
   ]
  },
  {
   "cell_type": "code",
   "execution_count": null,
   "id": "e1391f31-58bc-4679-be9b-2de0c8ac6ee3",
   "metadata": {},
   "outputs": [],
   "source": []
  }
 ],
 "metadata": {
  "kernelspec": {
   "display_name": "Python 3 (ipykernel)",
   "language": "python",
   "name": "python3"
  },
  "language_info": {
   "codemirror_mode": {
    "name": "ipython",
    "version": 3
   },
   "file_extension": ".py",
   "mimetype": "text/x-python",
   "name": "python",
   "nbconvert_exporter": "python",
   "pygments_lexer": "ipython3",
   "version": "3.11.7"
  }
 },
 "nbformat": 4,
 "nbformat_minor": 5
}
