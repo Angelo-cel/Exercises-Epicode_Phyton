{
 "cells": [
  {
   "cell_type": "code",
   "execution_count": 3,
   "id": "1e2df10e-798e-4d93-a984-c118800b8388",
   "metadata": {},
   "outputs": [
    {
     "name": "stdout",
     "output_type": "stream",
     "text": [
      "{'Ada': 'Punto', 'Ben': 'Polo', 'Charlie': 'Golf', 'Debbie': '107', 'Emily': 'A1', 'Fred': 'Octavia', 'Grace': 'Yaris', 'Hugh': 'Clio'}\n"
     ]
    }
   ],
   "source": [
    "dizionario_auto = {\"Ada\": \"Punto\", \"Ben\": \"Multipla\", \"Charlie\": \"Golf\", \"Debbie\": \"107\", \"Emily\": \"A1\"}\n",
    "nuovi_proprietari = {\"Ben\": \"Polo\", \"Fred\": \"Octavia\", \"Grace\": \"Yaris\", \"Hugh\": \"Clio\"}\n",
    "dizionario_auto.update(nuovi_proprietari)\n",
    "print(dizionario_auto)"
   ]
  },
  {
   "cell_type": "code",
   "execution_count": null,
   "id": "b3d9e441-5ccd-4661-9cc0-3542bb837077",
   "metadata": {},
   "outputs": [],
   "source": [
    "\"\"\"\n",
    " Cosa è successo a Ben?\n",
    " Ben ha cambiato auto. Ora guida una Polo.\n",
    "\"\"\""
   ]
  },
  {
   "cell_type": "code",
   "execution_count": null,
   "id": "fd849dff-aab2-45c6-9977-06ecdfab1428",
   "metadata": {},
   "outputs": [],
   "source": [
    "Osservando la sintassi dei dizionari, possiamo notare qualche affinità con il formato JSON?\n",
    "RISPOSTA:\n",
    "I dizionari in PYTHON e il formato JSON, sono simili perchè entrambi utilizzano il formato coppia CHIAVE - VALORE"
   ]
  },
  {
   "cell_type": "code",
   "execution_count": 1,
   "id": "bb3cc315-c7d5-4f4a-b74c-2977d9f7bf3b",
   "metadata": {},
   "outputs": [
    {
     "name": "stdout",
     "output_type": "stream",
     "text": [
      "Il minimo è: 1\n",
      "Il massimo è: 10\n"
     ]
    }
   ],
   "source": [
    "def trova_minimo_massimo(lista):\n",
    "    # Inizializziamo il minimo e il massimo con il primo elemento della lista\n",
    "    minimo = lista[0]\n",
    "    massimo = lista[0]\n",
    "\n",
    "    # Iteriamo attraverso gli elementi della lista per trovare il minimo e il massimo\n",
    "    for numero in lista:\n",
    "        if numero < minimo:\n",
    "            minimo = numero\n",
    "        elif numero > massimo:\n",
    "            massimo = numero\n",
    "\n",
    "    return minimo, massimo\n",
    "\n",
    "# Esempio di utilizzo\n",
    "numeri = [5, 3, 8, 2, 10, 1]\n",
    "minimo, massimo = trova_minimo_massimo(numeri)\n",
    "print(\"Il minimo è:\", minimo)\n",
    "print(\"Il massimo è:\", massimo)"
   ]
  },
  {
   "cell_type": "code",
   "execution_count": 3,
   "id": "c1027c70-da7f-42e2-8670-89dacb20087a",
   "metadata": {},
   "outputs": [
    {
     "name": "stdout",
     "output_type": "stream",
     "text": [
      "Inserisci una lista di numeri, uno per riga. Premi Invio su una riga vuota per terminare:\n"
     ]
    },
    {
     "name": "stdin",
     "output_type": "stream",
     "text": [
      " 12\n",
      " 12\n",
      " 90\n",
      " 63\n",
      " 51\n",
      " 75\n",
      " 98\n",
      " 09\n",
      " \n"
     ]
    },
    {
     "name": "stdout",
     "output_type": "stream",
     "text": [
      "Il minimo è: 9\n",
      "Il massimo è: 98\n"
     ]
    }
   ],
   "source": [
    "def trova_minimo_massimo(lista):\n",
    "    minimo = lista[0]\n",
    "    massimo = lista[0]\n",
    "\n",
    "    for numero in lista:\n",
    "        if numero < minimo:\n",
    "            minimo = numero\n",
    "        elif numero > massimo:\n",
    "            massimo = numero\n",
    "\n",
    "    return minimo, massimo\n",
    "\n",
    "# Leggiamo i numeri dall'utente fino a quando viene inserita una riga vuota\n",
    "print(\"Inserisci una lista di numeri, uno per riga. Premi Invio su una riga vuota per terminare:\")\n",
    "numeri = []\n",
    "while True:\n",
    "    numero_input = input()\n",
    "    if numero_input == '':\n",
    "        break\n",
    "    numeri.append(int(numero_input))\n",
    "\n",
    "# Troviamo il minimo e il massimo\n",
    "minimo, massimo = trova_minimo_massimo(numeri)\n",
    "\n",
    "# Stampiamo i risultati\n",
    "print(\"Il minimo è:\", minimo)\n",
    "print(\"Il massimo è:\", massimo)"
   ]
  },
  {
   "cell_type": "code",
   "execution_count": 5,
   "id": "b44d6244-0f8e-4b77-b013-809caba32154",
   "metadata": {},
   "outputs": [
    {
     "name": "stdout",
     "output_type": "stream",
     "text": [
      "Inserisci una lista di numeri. Premi Invio su una riga vuota per terminare:\n"
     ]
    },
    {
     "name": "stdin",
     "output_type": "stream",
     "text": [
      "Inserisci un numero (o Invio per terminare):  1\n",
      "Inserisci un numero (o Invio per terminare):  2\n",
      "Inserisci un numero (o Invio per terminare):  56\n",
      "Inserisci un numero (o Invio per terminare):  54\n",
      "Inserisci un numero (o Invio per terminare):  433\n",
      "Inserisci un numero (o Invio per terminare):  32\n",
      "Inserisci un numero (o Invio per terminare):  \n"
     ]
    },
    {
     "name": "stdout",
     "output_type": "stream",
     "text": [
      "I tre numeri più grandi sono: [56, 433, 54]\n"
     ]
    }
   ],
   "source": [
    "def tre_numeri_piu_grandi(lista):\n",
    "    if len(lista) <= 3:\n",
    "        return sorted(lista, reverse=True)\n",
    "    else:\n",
    "        lista_ordinata = sorted(lista, reverse=True)\n",
    "        tre_numeri = lista_ordinata[:3]\n",
    "        tre_numeri_senza_duplicati = list(set(tre_numeri))\n",
    "        while len(tre_numeri_senza_duplicati) < 3:\n",
    "            tre_numeri_senza_duplicati.append(lista_ordinata[len(tre_numeri_senza_duplicati)])\n",
    "        return tre_numeri_senza_duplicati\n",
    "\n",
    "# Funzione per leggere una lista di numeri dall'utente\n",
    "def leggi_lista_numeri():\n",
    "    numeri = []\n",
    "    while True:\n",
    "        num = input(\"Inserisci un numero (o Invio per terminare): \")\n",
    "        if num == \"\":\n",
    "            break\n",
    "        try:\n",
    "            numeri.append(int(num))\n",
    "        except ValueError:\n",
    "            print(\"Errore: inserisci solo numeri interi.\")\n",
    "    return numeri\n",
    "\n",
    "# Lettura della lista di numeri dall'utente\n",
    "print(\"Inserisci una lista di numeri. Premi Invio su una riga vuota per terminare:\")\n",
    "numeri = leggi_lista_numeri()\n",
    "\n",
    "# Troviamo i tre numeri più grandi\n",
    "tre_piu_grandi = tre_numeri_piu_grandi(numeri)\n",
    "\n",
    "# Stampiamo i risultati\n",
    "if len(tre_piu_grandi) == 0:\n",
    "    print(\"La lista è vuota.\")\n",
    "elif len(tre_piu_grandi) < 3:\n",
    "    print(\"I tre numeri più grandi sono:\", tre_piu_grandi)\n",
    "else:\n",
    "    print(\"I tre numeri più grandi sono:\", tre_piu_grandi)"
   ]
  },
  {
   "cell_type": "code",
   "execution_count": 6,
   "id": "8ad05dfe-356e-4eb2-afb9-bbf9c40fe45e",
   "metadata": {},
   "outputs": [
    {
     "name": "stdout",
     "output_type": "stream",
     "text": [
      "Inserisci una lista di numeri. Premi Invio su una riga vuota per terminare:\n"
     ]
    },
    {
     "name": "stdin",
     "output_type": "stream",
     "text": [
      "Inserisci un numero (o Invio per terminare):  1\n",
      "Inserisci un numero (o Invio per terminare):  2\n",
      "Inserisci un numero (o Invio per terminare):  5\n",
      "Inserisci un numero (o Invio per terminare):  3\n",
      "Inserisci un numero (o Invio per terminare):  2\n",
      "Inserisci un numero (o Invio per terminare):  45\n",
      "Inserisci un numero (o Invio per terminare):  \n",
      "Inserisci il valore di K:  20\n"
     ]
    },
    {
     "name": "stdout",
     "output_type": "stream",
     "text": [
      "La media dei numeri maggiori o uguali a 20.0 è: 45.0\n"
     ]
    }
   ],
   "source": [
    "def media_numeri_maggiore_uguale_a_K(lista, K):\n",
    "    numeri_validi = [numero for numero in lista if numero >= K]\n",
    "    if not numeri_validi:\n",
    "        return None  # Nessun numero maggiore o uguale a K trovato\n",
    "    else:\n",
    "        media = sum(numeri_validi) / len(numeri_validi)\n",
    "        return media\n",
    "\n",
    "# Funzione per leggere una lista di numeri dall'utente\n",
    "def leggi_lista_numeri():\n",
    "    numeri = []\n",
    "    while True:\n",
    "        num = input(\"Inserisci un numero (o Invio per terminare): \")\n",
    "        if num == \"\":\n",
    "            break\n",
    "        try:\n",
    "            numeri.append(float(num))\n",
    "        except ValueError:\n",
    "            print(\"Errore: inserisci solo numeri.\")\n",
    "    return numeri\n",
    "\n",
    "# Lettura della lista di numeri dall'utente\n",
    "print(\"Inserisci una lista di numeri. Premi Invio su una riga vuota per terminare:\")\n",
    "numeri = leggi_lista_numeri()\n",
    "\n",
    "# Lettura del numero K dall'utente\n",
    "K = float(input(\"Inserisci il valore di K: \"))\n",
    "\n",
    "# Calcolo della media dei numeri maggiori o uguali a K\n",
    "media = media_numeri_maggiore_uguale_a_K(numeri, K)\n",
    "\n",
    "# Stampiamo i risultati\n",
    "if media is None:\n",
    "    print(\"Non ci sono numeri maggiori o uguali a\", K)\n",
    "else:\n",
    "    print(\"La media dei numeri maggiori o uguali a\", K, \"è:\", media)"
   ]
  },
  {
   "cell_type": "code",
   "execution_count": 7,
   "id": "6097dbe8-d2ef-4298-80dc-4fa0c73e0880",
   "metadata": {},
   "outputs": [
    {
     "name": "stdout",
     "output_type": "stream",
     "text": [
      "*****\n",
      "**\n",
      "***\n",
      "****\n"
     ]
    }
   ],
   "source": [
    "def visualizza_asterischi(numeri):\n",
    "    for numero in numeri:\n",
    "        print('*' * numero)\n",
    "\n",
    "# Input di esempio\n",
    "numeri = [5, 2, 3, 4]\n",
    "\n",
    "# Visualizzazione grafica\n",
    "visualizza_asterischi(numeri)\n"
   ]
  },
  {
   "cell_type": "code",
   "execution_count": 8,
   "id": "947e1799-6e40-42f0-8dc6-9e0e3ce35a8c",
   "metadata": {},
   "outputs": [
    {
     "name": "stdout",
     "output_type": "stream",
     "text": [
      "Codice fiscale: ABCDEF95G01A123B\n",
      "Nome: ABCDEF\n",
      "Cognome: 23B\n",
      "\n",
      "Codice fiscale: STUVWX95Z04A654E\n",
      "Nome: STUVWX\n",
      "Cognome: 54E\n",
      "\n",
      "Codice fiscale: DEFGHI95J06A987G\n",
      "Nome: DEFGHI\n",
      "Cognome: 87G\n",
      "\n"
     ]
    }
   ],
   "source": [
    "def trova_cf_contenenti(cf_lista, sottostringa):\n",
    "    cf_contenenti = []\n",
    "    for cf in cf_lista:\n",
    "        if sottostringa in cf:\n",
    "            cf_contenenti.append(cf)\n",
    "    return cf_contenenti\n",
    "\n",
    "def stampa_caratteri(cf_lista):\n",
    "    for cf in cf_lista:\n",
    "        indice_nome = cf.index(sottostringa) - 6\n",
    "        nome = cf[indice_nome:indice_nome+6]\n",
    "        indice_cognome = cf.index(sottostringa) + 7\n",
    "        cognome = cf[indice_cognome:indice_cognome+3]\n",
    "        print(\"Codice fiscale:\", cf)\n",
    "        print(\"Nome:\", nome)\n",
    "        print(\"Cognome:\", cognome)\n",
    "        print()\n",
    "\n",
    "# Lista di codici fiscali\n",
    "lista_cf = [\"ABCDEF95G01A123B\", \"GHIJKL91M02A321C\", \"MNOPQR89S03A456D\", \"STUVWX95Z04A654E\", \"XYZABC01D05A789F\", \"DEFGHI95J06A987G\"]\n",
    "\n",
    "# Trova i codici fiscali contenenti \"95\"\n",
    "sottostringa = \"95\"\n",
    "cf_contenenti = trova_cf_contenenti(lista_cf, sottostringa)\n",
    "\n",
    "# Stampa i codici fiscali trovati e i caratteri relativi al nome e al cognome\n",
    "stampa_caratteri(cf_contenenti)"
   ]
  },
  {
   "cell_type": "code",
   "execution_count": 10,
   "id": "c4ffff86-a7fb-437b-8e57-beda60ef53f3",
   "metadata": {},
   "outputs": [
    {
     "name": "stdout",
     "output_type": "stream",
     "text": [
      "Studente: Alex\n",
      "Corso: Cybersecurity\n",
      "Edizione: 1\n",
      "\n",
      "Studente: Faith\n",
      "Corso: Backend\n",
      "Edizione: 1\n",
      "\n"
     ]
    }
   ],
   "source": [
    "studenti = [\"Alex\", \"Bob\", \"Cindy\", \"Dan\", \"Emma\", \"Faith\", \"Grace\", \"Henry\"]\n",
    "corsi = [\"Cybersecurity\", \"Data Analyst\", \"Backend\", \"Frontend\", \"Data Analyst\", \"Backend\", \"Frontend\", \"Cybersecurity\"]\n",
    "edizioni = [1, 2, 3, 2, 2, 1, 3, 3]\n",
    "\n",
    "# Filtra gli studenti che frequentano una prima edizione\n",
    "studenti_prima_edizione = [studente for studente, edizione in zip(studenti, edizioni) if edizione == 1]\n",
    "\n",
    "# Stampa gli studenti che frequentano una prima edizione\n",
    "for studente, corso, edizione in zip(studenti, corsi, edizioni):\n",
    "    if edizione == 1:\n",
    "        print(\"Studente:\", studente)\n",
    "        print(\"Corso:\", corso)\n",
    "        print(\"Edizione:\", edizione)\n",
    "        print()\n",
    "        "
   ]
  },
  {
   "cell_type": "code",
   "execution_count": null,
   "id": "d331c972-735e-44a1-902b-25074dc2e559",
   "metadata": {},
   "outputs": [],
   "source": [
    "Anche se la sintassi e le modalità di lavoro sono diverse tra Python e SQL, \n",
    "il concetto fondamentale di selezione e manipolazione dei dati rimane simile. \n",
    "\n",
    "Entrambi si basano sull'accesso a dati tabulari,\n",
    "l'applicazione di condizioni di filtro \n",
    "e l'elaborazione dei risultati per ottenere le informazioni desiderate."
   ]
  },
  {
   "cell_type": "code",
   "execution_count": 13,
   "id": "dd47ddbe-06df-43f5-b9b1-d8208b4e618a",
   "metadata": {},
   "outputs": [
    {
     "name": "stdout",
     "output_type": "stream",
     "text": [
      "['100 $', '200 $', '500 $', '10 $', '50 $', '70 $']\n"
     ]
    }
   ],
   "source": [
    "prezzi = [\"100 €\", \"200 €\", \"500 €\", \"10 €\", \"50 €\", \"70 €\"]\n",
    "\n",
    "# Lista vuota per memorizzare i prezzi corretti\n",
    "prezzi_corretti = []\n",
    "\n",
    "# Sostituisci il simbolo dell'euro con quello del dollaro per ogni stringa nella lista\n",
    "for prezzo in prezzi:\n",
    "    prezzo_corretto = prezzo.replace(\"€\", \"$\")\n",
    "    prezzi_corretti.append(prezzo_corretto)\n",
    "\n",
    "# Stampa la lista dei prezzi corretti\n",
    "print(prezzi_corretti)"
   ]
  },
  {
   "cell_type": "code",
   "execution_count": 14,
   "id": "fbe0c397-82ec-45d1-9e09-c4ed048e9597",
   "metadata": {},
   "outputs": [
    {
     "name": "stdout",
     "output_type": "stream",
     "text": [
      "Squadra Pari: ['Alex', 'Cindy', 'Emma', 'Grace', 'Isabelle']\n",
      "Squadra Dispari: ['Bob', 'Dan', 'Faith', 'Henry', 'John']\n"
     ]
    }
   ],
   "source": [
    "studenti = [\"Alex\", \"Bob\", \"Cindy\", \"Dan\", \"Emma\", \"Faith\", \"Grace\", \"Henry\", \"Isabelle\", \"John\"]\n",
    "\n",
    "# Creiamo due liste vuote per memorizzare gli studenti delle due squadre\n",
    "squadra_pari = []\n",
    "squadra_dispari = []\n",
    "\n",
    "# Iteriamo sugli studenti e assegniamoli alle squadre in base alla loro posizione nella lista\n",
    "for indice, studente in enumerate(studenti):\n",
    "    if indice % 2 == 0:\n",
    "        squadra_pari.append(studente)\n",
    "    else:\n",
    "        squadra_dispari.append(studente)\n",
    "\n",
    "# Visualizziamo le due liste delle squadre\n",
    "print(\"Squadra Pari:\", squadra_pari)\n",
    "print(\"Squadra Dispari:\", squadra_dispari)"
   ]
  },
  {
   "cell_type": "code",
   "execution_count": 15,
   "id": "9627dc51-6f67-4a3d-852c-fc0a9ca36136",
   "metadata": {},
   "outputs": [
    {
     "name": "stdout",
     "output_type": "stream",
     "text": [
      "Mese 1: 100 € (media prec: 0.0 € - il guadagno attuale è maggiore)\n",
      "Mese 2: 90 € (media prec: 100.0 € - il guadagno attuale è minore)\n",
      "Mese 3: 70 € (media prec: 95.0 € - il guadagno attuale è minore)\n",
      "Mese 4: 40 € (media prec: 86.66666666666667 € - il guadagno attuale è minore)\n",
      "Mese 5: 50 € (media prec: 75.0 € - il guadagno attuale è minore)\n",
      "Mese 6: 80 € (media prec: 70.0 € - il guadagno attuale è maggiore)\n",
      "Mese 7: 90 € (media prec: 71.66666666666667 € - il guadagno attuale è maggiore)\n",
      "Mese 8: 120 € (media prec: 74.28571428571429 € - il guadagno attuale è maggiore)\n",
      "Mese 9: 80 € (media prec: 80.0 € - il guadagno attuale è uguale)\n",
      "Mese 10: 20 € (media prec: 80.0 € - il guadagno attuale è minore)\n",
      "Mese 11: 50 € (media prec: 74.0 € - il guadagno attuale è minore)\n",
      "Mese 12: 50 € (media prec: 71.81818181818181 € - il guadagno attuale è minore)\n"
     ]
    }
   ],
   "source": [
    "guadagni = [100, 90, 70, 40, 50, 80, 90, 120, 80, 20, 50, 50]\n",
    "\n",
    "# Calcoliamo la media dei guadagni precedenti per ogni mese\n",
    "for i in range(len(guadagni)):\n",
    "    guadagno_attuale = guadagni[i]\n",
    "    media_precedenti = sum(guadagni[:i]) / max(i, 1)  # Evitiamo divisione per zero\n",
    "    confronto = \"maggiore\" if guadagno_attuale > media_precedenti else \"minore\" if guadagno_attuale < media_precedenti else \"uguale\"\n",
    "    print(f\"Mese {i + 1}: {guadagno_attuale} € (media prec: {media_precedenti} € - il guadagno attuale è {confronto})\")"
   ]
  },
  {
   "cell_type": "code",
   "execution_count": null,
   "id": "e95e974f-e242-4688-8ec5-bd5da9aadc82",
   "metadata": {},
   "outputs": [],
   "source": []
  }
 ],
 "metadata": {
  "kernelspec": {
   "display_name": "Python 3 (ipykernel)",
   "language": "python",
   "name": "python3"
  },
  "language_info": {
   "codemirror_mode": {
    "name": "ipython",
    "version": 3
   },
   "file_extension": ".py",
   "mimetype": "text/x-python",
   "name": "python",
   "nbconvert_exporter": "python",
   "pygments_lexer": "ipython3",
   "version": "3.11.7"
  }
 },
 "nbformat": 4,
 "nbformat_minor": 5
}
