{
 "cells": [
  {
   "cell_type": "code",
   "execution_count": null,
   "id": "570730c7-6f1d-4970-b871-8c06069cec78",
   "metadata": {},
   "outputs": [],
   "source": [
    "Esercizio \n",
    "Individuiamo tre task di qualsiasi tipo:\n",
    "\n",
    "1 - FARE LA SPESA\n",
    "1.1 - Fare la lista della spesa\n",
    "1.2 - uscire di casa\n",
    "1.3 - prendere la macchina\n",
    "1.4 - raggiungere il supermercato\n",
    "1.5 - parcheggiare la macchina\n",
    "1.6 - entrare nel supermercato\n",
    "1.7 - prendere la pasta\n",
    "1.8 - prendere la carne\n",
    "1.9 - pagare alla cassa\n",
    "\n",
    "2 - ACQUISTARE UNO SNACK AL DISTRUBUTORE\n",
    "2.1 - scegliere il distributore dal quale acquistare\n",
    "2.2 - scegliere uno snack da acquistare\n",
    "2.3 - digitare il codice inerente allo snack\n",
    "2.4 - inserire l'importo richiesto \n",
    "2.5 - attendere il completamento del pagamento automatico\n",
    "2.6 - ritirare lo snack acquistato\n",
    "\n",
    "3 - RIEMPIRE IL SERBATOIO DELL'AUTO\n",
    "3.1 - prendere la macchina\n",
    "3.2 - accendere la macchina\n",
    "3.3 - dirigersi alla stazione di servizio più vicina\n",
    "3.4 - spegnere la macchina\n",
    "3.5 - scendere dalla macchina\n",
    "3.6 - pagare \n",
    "3.7 - inserire la pompa di benzina all'interno dell'auto\n",
    "3.8 - fare rifornimento\n",
    "3.9 - estrarre la pompa di benzina\n",
    "3.10 - entrare in auto\n",
    "3.11 - verificare il riempimento del serbatoio\n",
    "\n",
    "\n",
    "\n",
    "\n"
   ]
  },
  {
   "cell_type": "code",
   "execution_count": null,
   "id": "38c92386-5fee-4c02-8ece-851835be673b",
   "metadata": {},
   "outputs": [],
   "source": [
    "\"\"Abbiamo 25 studenti; memorizzare questo dato in una variabile. \n",
    "Arrivano altri 3 studenti; memorizzare questo dato in un'altra variabile.\n",
    "Creare un'altra variabile ancora che conterrà la somma delle prime due, poi stamparla a video\"\""
   ]
  },
  {
   "cell_type": "code",
   "execution_count": 1,
   "id": "889ca1f1-b93c-46e3-8825-09876d820931",
   "metadata": {},
   "outputs": [],
   "source": [
    "Studenti = 25"
   ]
  },
  {
   "cell_type": "code",
   "execution_count": 3,
   "id": "66f5e6ea-444b-49c2-9507-9e4c064e9930",
   "metadata": {},
   "outputs": [
    {
     "name": "stdout",
     "output_type": "stream",
     "text": [
      "25\n"
     ]
    }
   ],
   "source": [
    "print (Studenti)"
   ]
  },
  {
   "cell_type": "code",
   "execution_count": 4,
   "id": "0f7c7829-a830-4191-850b-0bfa848a0110",
   "metadata": {},
   "outputs": [],
   "source": [
    "Nuovi_studenti = 3 "
   ]
  },
  {
   "cell_type": "code",
   "execution_count": 6,
   "id": "3d8d4578-71dc-4c11-b916-5532a3e66b08",
   "metadata": {},
   "outputs": [],
   "source": [
    "Studenti_totali = Studenti + Nuovi_studenti"
   ]
  },
  {
   "cell_type": "code",
   "execution_count": 7,
   "id": "12da811e-8cad-4577-b611-cb6b0b511ddd",
   "metadata": {},
   "outputs": [
    {
     "name": "stdout",
     "output_type": "stream",
     "text": [
      "3\n"
     ]
    }
   ],
   "source": [
    "print (Nuovi_studenti)"
   ]
  },
  {
   "cell_type": "code",
   "execution_count": 8,
   "id": "03282b03-63ca-4009-90c8-05d30f54e44f",
   "metadata": {},
   "outputs": [
    {
     "name": "stdout",
     "output_type": "stream",
     "text": [
      "28\n"
     ]
    }
   ],
   "source": [
    "print (Studenti_totali)"
   ]
  },
  {
   "cell_type": "code",
   "execution_count": null,
   "id": "1539c3c8-b371-4751-9fec-8e02a7651e78",
   "metadata": {},
   "outputs": [],
   "source": [
    "\"\"Creare una variabile che contiene la stringa \"Epicode\", quindi stamparla a video.\"\""
   ]
  },
  {
   "cell_type": "code",
   "execution_count": 9,
   "id": "ef035bba-3373-4d63-ac53-a3a6cb123cf8",
   "metadata": {},
   "outputs": [],
   "source": [
    "Classe = \"Epicode\""
   ]
  },
  {
   "cell_type": "code",
   "execution_count": 10,
   "id": "3529d2c1-9b42-4385-8b73-c736ec09b53c",
   "metadata": {},
   "outputs": [
    {
     "name": "stdout",
     "output_type": "stream",
     "text": [
      "Epicode\n"
     ]
    }
   ],
   "source": [
    "print (\"Epicode\")"
   ]
  },
  {
   "cell_type": "code",
   "execution_count": null,
   "id": "d581fe5c-d21f-4b0d-8caf-602d1f69263d",
   "metadata": {},
   "outputs": [],
   "source": [
    "\"\"Abbiamo la variabile: x = 10\n",
    "Incrementarla di 2 e poi moltiplicarla per 3\n",
    "Usare due metodi diversi (ad esempio, uno utilizzando gli operatori di assegnazione, e uno senza)\"\""
   ]
  },
  {
   "cell_type": "code",
   "execution_count": 11,
   "id": "a67b8f45-8660-4034-9752-be7b946c0efa",
   "metadata": {},
   "outputs": [],
   "source": [
    "x = 10"
   ]
  },
  {
   "cell_type": "code",
   "execution_count": 12,
   "id": "f02ea676-6060-4ecf-aab7-68485785c953",
   "metadata": {},
   "outputs": [],
   "source": [
    "y = (x + 2) * 3"
   ]
  },
  {
   "cell_type": "code",
   "execution_count": 13,
   "id": "f56d7f2e-abf7-44fd-a13a-b72c2d27ce41",
   "metadata": {},
   "outputs": [
    {
     "name": "stdout",
     "output_type": "stream",
     "text": [
      "36\n"
     ]
    }
   ],
   "source": [
    "print (y)"
   ]
  },
  {
   "cell_type": "code",
   "execution_count": null,
   "id": "b88e6888-e9f6-44a7-93bc-5a6da6d9704f",
   "metadata": {},
   "outputs": [],
   "source": [
    "\" Con operatori di assegnazione \""
   ]
  },
  {
   "cell_type": "code",
   "execution_count": 14,
   "id": "00f7f8d0-6f91-4294-a75a-aea9892f2423",
   "metadata": {},
   "outputs": [],
   "source": [
    "x = 10\n",
    "x += 2\n",
    "x *= 3"
   ]
  },
  {
   "cell_type": "code",
   "execution_count": 15,
   "id": "a19cd7a8-aba3-46e9-b5e0-a6b9058cc32d",
   "metadata": {},
   "outputs": [
    {
     "name": "stdout",
     "output_type": "stream",
     "text": [
      "36\n"
     ]
    }
   ],
   "source": [
    "print (x)"
   ]
  },
  {
   "cell_type": "code",
   "execution_count": null,
   "id": "eb5520e1-dcbd-43ba-b86d-1805684b616e",
   "metadata": {},
   "outputs": [],
   "source": [
    "Verificare, per ognuna delle seguenti stringhe, se il numero di caratteri è compreso tra 5 e 8:\n",
    "• str1 = \"Windows\" \n",
    "• str2 = \"Excel\" \n",
    "• str3 = \"Powerpoint\" \n",
    "• str4 = \"Word\"."
   ]
  },
  {
   "cell_type": "code",
   "execution_count": 16,
   "id": "6ec12a1b-c4fd-4651-950e-7fa3752631d5",
   "metadata": {},
   "outputs": [
    {
     "data": {
      "text/plain": [
       "7"
      ]
     },
     "execution_count": 16,
     "metadata": {},
     "output_type": "execute_result"
    }
   ],
   "source": [
    "len(\"Windows\")"
   ]
  },
  {
   "cell_type": "code",
   "execution_count": 37,
   "id": "b450e4cb-161b-4620-8983-93b39563c46f",
   "metadata": {},
   "outputs": [],
   "source": [
    "str1 = \"Windows\"\n",
    "str2 = \"Excel\"\n",
    "str3 = \"Powerpoint\"\n",
    "str4 = \"Word\""
   ]
  },
  {
   "cell_type": "code",
   "execution_count": 29,
   "id": "4702d77c-0134-4da8-af74-3f7dba1638d3",
   "metadata": {},
   "outputs": [
    {
     "name": "stdout",
     "output_type": "stream",
     "text": [
      "SI\n"
     ]
    }
   ],
   "source": [
    "str1 = \"Windows\"\n",
    "if 5 <= len(str1) <= 8: print (\"SI\")"
   ]
  },
  {
   "cell_type": "code",
   "execution_count": 32,
   "id": "206a3f82-ca0b-44e9-806a-e5007e4e74b7",
   "metadata": {},
   "outputs": [
    {
     "name": "stdout",
     "output_type": "stream",
     "text": [
      "SI\n"
     ]
    }
   ],
   "source": [
    "if 5 <= len(str2) <= 8: print (\"SI\")"
   ]
  },
  {
   "cell_type": "code",
   "execution_count": 33,
   "id": "7746f3cd-4c9c-41a9-9833-f0bec6f389d7",
   "metadata": {},
   "outputs": [
    {
     "name": "stdout",
     "output_type": "stream",
     "text": [
      "NO\n"
     ]
    }
   ],
   "source": [
    "if len(str3) >= 5 and len(str3) <= 8: \n",
    "    print(\"SI\")\n",
    "else:\n",
    "    print(\"NO\")"
   ]
  },
  {
   "cell_type": "code",
   "execution_count": 40,
   "id": "f2fe29da-7f2d-42c3-9abe-c314bf97ac0c",
   "metadata": {},
   "outputs": [
    {
     "name": "stdout",
     "output_type": "stream",
     "text": [
      "NO\n"
     ]
    }
   ],
   "source": [
    "if 5 <= len(str4) >= 8:\n",
    "    print(\"SI\")\n",
    "else:\n",
    "    print(\"NO\")"
   ]
  },
  {
   "cell_type": "code",
   "execution_count": null,
   "id": "69d28133-b7fb-4ffe-8c3d-632d8b419a8a",
   "metadata": {},
   "outputs": [],
   "source": [
    "Calcolare e stampare a video quanti secondi ci sono in un anno non bisestile."
   ]
  },
  {
   "cell_type": "code",
   "execution_count": 41,
   "id": "f668d3fd-35b0-4c9c-8563-59e0266466be",
   "metadata": {},
   "outputs": [],
   "source": [
    "secondi = 60"
   ]
  },
  {
   "cell_type": "code",
   "execution_count": 42,
   "id": "ef320539-fd0c-4e8d-8283-43501804c863",
   "metadata": {},
   "outputs": [],
   "source": [
    "minuti = 60\n",
    "ore = 24\n",
    "giorni = 365"
   ]
  },
  {
   "cell_type": "code",
   "execution_count": 43,
   "id": "b1cc7ce9-2ec4-4b62-9201-9aef40072274",
   "metadata": {},
   "outputs": [
    {
     "name": "stdout",
     "output_type": "stream",
     "text": [
      " i secondi in un anno non bisestile sono: 31536000\n"
     ]
    }
   ],
   "source": [
    "secondi_anno = secondi * minuti * ore * giorni\n",
    "print(\" i secondi in un anno non bisestile sono:\",secondi_anno)"
   ]
  },
  {
   "cell_type": "code",
   "execution_count": null,
   "id": "c16bbd08-8fbc-4e77-9b10-7cfc797c6faf",
   "metadata": {},
   "outputs": [],
   "source": [
    "Abbiamo la seguente stringa: \n",
    "my_string = \"I am studying Python\"\n",
    "• Trasformarla in modo che tutti i caratteri siano maiuscoli (uppercase) \n",
    "• Trasformarla in modo che tutti i caratteri siano minuscoli (lowercase) \n",
    "• Sostituire la sottostringa \"Python\" con la stringa \"a lot\" \n",
    "• Usare il metodo .strip(); cambia qualcosa? Perché?"
   ]
  },
  {
   "cell_type": "code",
   "execution_count": 54,
   "id": "e3d57bb7-0506-4c6c-8726-ad306e5c2177",
   "metadata": {},
   "outputs": [],
   "source": [
    "my_string = \"I am studying Python\""
   ]
  },
  {
   "cell_type": "code",
   "execution_count": 55,
   "id": "ddf8d644-0ea7-415d-ab0f-a7f62d79f73f",
   "metadata": {},
   "outputs": [
    {
     "data": {
      "text/plain": [
       "'I AM STUDYING PYTHON'"
      ]
     },
     "execution_count": 55,
     "metadata": {},
     "output_type": "execute_result"
    }
   ],
   "source": [
    "my_string.upper()"
   ]
  },
  {
   "cell_type": "code",
   "execution_count": 56,
   "id": "2ab92b9c-41fa-4cd3-8068-af4fa5204c79",
   "metadata": {},
   "outputs": [
    {
     "data": {
      "text/plain": [
       "'i am studying python'"
      ]
     },
     "execution_count": 56,
     "metadata": {},
     "output_type": "execute_result"
    }
   ],
   "source": [
    "my_string.lower()"
   ]
  },
  {
   "cell_type": "code",
   "execution_count": 58,
   "id": "a4142079-84f7-4fd1-831e-c6ac6be5bf85",
   "metadata": {},
   "outputs": [
    {
     "data": {
      "text/plain": [
       "'I am studying a lot'"
      ]
     },
     "execution_count": 58,
     "metadata": {},
     "output_type": "execute_result"
    }
   ],
   "source": [
    "my_string.replace (\"Python\", \"a lot\")"
   ]
  },
  {
   "cell_type": "code",
   "execution_count": 59,
   "id": "33fe8335-faab-4b57-9bc5-b7ede96e3d97",
   "metadata": {},
   "outputs": [
    {
     "data": {
      "text/plain": [
       "'I am studying Python'"
      ]
     },
     "execution_count": 59,
     "metadata": {},
     "output_type": "execute_result"
    }
   ],
   "source": [
    "my_string"
   ]
  },
  {
   "cell_type": "code",
   "execution_count": 60,
   "id": "a35808b7-e840-419c-9ad7-01b6968966c2",
   "metadata": {},
   "outputs": [],
   "source": [
    "my_string = \"     I am studying Python\""
   ]
  },
  {
   "cell_type": "code",
   "execution_count": 61,
   "id": "7a49bca7-79e1-4ce4-88d9-a1ca945aca9f",
   "metadata": {},
   "outputs": [
    {
     "data": {
      "text/plain": [
       "'I am studying Python'"
      ]
     },
     "execution_count": 61,
     "metadata": {},
     "output_type": "execute_result"
    }
   ],
   "source": [
    "my_string.strip()"
   ]
  },
  {
   "cell_type": "code",
   "execution_count": null,
   "id": "69451c22-d339-4abb-a166-6741779213c1",
   "metadata": {},
   "outputs": [],
   "source": [
    "la funzione strip elimina gli spazi all'inizio e alla fine della stringa"
   ]
  }
 ],
 "metadata": {
  "kernelspec": {
   "display_name": "Python 3 (ipykernel)",
   "language": "python",
   "name": "python3"
  },
  "language_info": {
   "codemirror_mode": {
    "name": "ipython",
    "version": 3
   },
   "file_extension": ".py",
   "mimetype": "text/x-python",
   "name": "python",
   "nbconvert_exporter": "python",
   "pygments_lexer": "ipython3",
   "version": "3.11.7"
  }
 },
 "nbformat": 4,
 "nbformat_minor": 5
}
