{
 "cells": [
  {
   "cell_type": "code",
   "execution_count": 16,
   "id": "772cb42d-a36a-430b-a01f-f2cbc7cc2ea5",
   "metadata": {},
   "outputs": [
    {
     "name": "stdout",
     "output_type": "stream",
     "text": [
      "E\n",
      "p\n",
      "i\n",
      "c\n",
      "o\n",
      "d\n",
      "e\n"
     ]
    }
   ],
   "source": [
    "nome_scuola = \"Epicode\"\n",
    "indice = 0\n",
    "while indice < len(nome_scuola):\n",
    "    print(nome_scuola[indice])\n",
    "    indice += 1"
   ]
  },
  {
   "cell_type": "code",
   "execution_count": 17,
   "id": "d2313791-63d5-4de4-8f0a-6ef9f845ac46",
   "metadata": {},
   "outputs": [
    {
     "name": "stdout",
     "output_type": "stream",
     "text": [
      "0\n",
      "1\n",
      "2\n",
      "3\n",
      "4\n",
      "5\n",
      "6\n",
      "7\n",
      "8\n",
      "9\n",
      "10\n",
      "11\n",
      "12\n",
      "13\n",
      "14\n",
      "15\n",
      "16\n",
      "17\n",
      "18\n",
      "19\n",
      "20\n"
     ]
    }
   ],
   "source": [
    "numero = 0 \n",
    "while numero <= 20:\n",
    "    print(numero)\n",
    "    numero += 1"
   ]
  },
  {
   "cell_type": "code",
   "execution_count": 18,
   "id": "13c8ca49-11c0-40be-b861-99b213ca56b0",
   "metadata": {},
   "outputs": [
    {
     "name": "stdout",
     "output_type": "stream",
     "text": [
      "1\n",
      "2\n",
      "4\n",
      "8\n",
      "16\n",
      "32\n",
      "64\n",
      "128\n",
      "256\n",
      "512\n",
      "1024\n"
     ]
    }
   ],
   "source": [
    "potenza = 0\n",
    "numero = 2\n",
    "while potenza <= 10:\n",
    "    print(numero ** potenza)\n",
    "    potenza += 1"
   ]
  },
  {
   "cell_type": "code",
   "execution_count": 23,
   "id": "b5b0498a-5f06-44a8-b39a-095a6379af24",
   "metadata": {},
   "outputs": [
    {
     "name": "stdin",
     "output_type": "stream",
     "text": [
      "inserisci il numero di potenze di 2 da calcolare: 2\n"
     ]
    },
    {
     "name": "stdout",
     "output_type": "stream",
     "text": [
      "2 elevato alla  0 = 1\n",
      "2 elevato alla  1 = 2\n"
     ]
    }
   ],
   "source": [
    "n = int(input(\"inserisci il numero di potenze di 2 da calcolare:\"))\n",
    "potenza = 1\n",
    "esponente = 0\n",
    "while esponente < n:\n",
    "    print(\"2 elevato alla \", esponente, \"=\", potenza)\n",
    "    esponente += 1\n",
    "    potenza *= 2\n",
    "\n"
   ]
  },
  {
   "cell_type": "code",
   "execution_count": 24,
   "id": "f707abe4-9ace-484d-b049-1de43d91dd62",
   "metadata": {},
   "outputs": [
    {
     "name": "stdout",
     "output_type": "stream",
     "text": [
      " 2 elevato alla: 0 = 1\n",
      " 2 elevato alla: 1 = 2\n",
      " 2 elevato alla: 2 = 4\n",
      " 2 elevato alla: 3 = 8\n",
      " 2 elevato alla: 4 = 16\n",
      " 2 elevato alla: 5 = 32\n",
      " 2 elevato alla: 6 = 64\n",
      " 2 elevato alla: 7 = 128\n",
      " 2 elevato alla: 8 = 256\n",
      " 2 elevato alla: 9 = 512\n",
      " 2 elevato alla: 10 = 1024\n",
      " 2 elevato alla: 11 = 2048\n"
     ]
    }
   ],
   "source": [
    "numero = 2\n",
    "esponente = 0\n",
    "potenza = 1\n",
    "while potenza < 2500:\n",
    "    print(\" 2 elevato alla:\", esponente,\"=\", potenza)\n",
    "    esponente += 1\n",
    "    potenza *= 2\n",
    "    "
   ]
  },
  {
   "cell_type": "code",
   "execution_count": 48,
   "id": "5bcafcf3-0eeb-4c2b-8aed-4f5addfa9a70",
   "metadata": {},
   "outputs": [
    {
     "name": "stdout",
     "output_type": "stream",
     "text": [
      "I corsi e gli studenti sono della stessa lunghezza\n"
     ]
    }
   ],
   "source": [
    "studenti = [\"Alex\", \"Bob\", \"Cindy\", \"Dan\", \"Emma\", \"Faith\", \"Grace\", \"Henry\"] \n",
    "corsi = [\"Cybersecurity\", \"Data Analyst\", \"Backend\", \"Frontend\", \"Data Analyst\", \"Backend\"]\n",
    "corsi.append(\"Frontend\")\n",
    "corsi.append(\"Cybersecurity\")\n",
    "if len(studenti) == len(corsi):\n",
    "   print(\"I corsi e gli studenti sono della stessa lunghezza.\")\n",
    "else:\n",
    "    print(\"no\")"
   ]
  },
  {
   "cell_type": "code",
   "execution_count": 5,
   "id": "9b14e672-f2f0-4cf0-9e86-5c73b5739f7b",
   "metadata": {},
   "outputs": [
    {
     "name": "stdin",
     "output_type": "stream",
     "text": [
      "Inserisci la parola da dividere: casa\n"
     ]
    },
    {
     "name": "stdout",
     "output_type": "stream",
     "text": [
      "ca....sa\n"
     ]
    }
   ],
   "source": [
    "parola = str(input(\"Inserisci la parola da dividere:\"))\n",
    "if len(parola) >= 6:\n",
    "    output = parola[:3] + \"....\" + parola[-3:]\n",
    "    print(output)\n",
    "else:\n",
    "    output = parola[:int(len(parola)/2)] + \"....\" + parola[int(-len(parola)/2):]\n",
    "    print(output)"
   ]
  },
  {
   "cell_type": "code",
   "execution_count": 4,
   "id": "460d1d6c-226c-472e-b1d9-f0ce313c4a65",
   "metadata": {},
   "outputs": [
    {
     "name": "stdin",
     "output_type": "stream",
     "text": [
      "inserisci un numero: 150\n"
     ]
    },
    {
     "name": "stdout",
     "output_type": "stream",
     "text": [
      "I fattori di: 150 Sono: [1, 2, 3, 5, 6, 10, 15, 25, 30, 50, 75, 150]\n"
     ]
    }
   ],
   "source": [
    "def calcola_fattori(numero):\n",
    "    fattori = [] \n",
    "    for i in range(1, numero + 1):  \n",
    "        if numero % i == 0:  \n",
    "            fattori.append(i) \n",
    "    return fattori\n",
    "numero = int(input(\"inserisci un numero:\"))\n",
    "fattori_numero = calcola_fattori(numero)\n",
    "print(\"I fattori di:\", numero, \"Sono:\", fattori_numero)"
   ]
  },
  {
   "cell_type": "code",
   "execution_count": 25,
   "id": "2da2bdb1-bbd7-429d-a3c4-0fcf60539c1d",
   "metadata": {},
   "outputs": [
    {
     "name": "stdout",
     "output_type": "stream",
     "text": [
      "E\n",
      "p\n",
      "i\n",
      "c\n",
      "o\n",
      "d\n",
      "e\n"
     ]
    }
   ],
   "source": [
    "nome_scuola = \"Epicode\"\n",
    "for carattere in nome_scuola:\n",
    " print(carattere)"
   ]
  },
  {
   "cell_type": "code",
   "execution_count": 28,
   "id": "33698aef-ecad-4585-bad2-c4e248871079",
   "metadata": {},
   "outputs": [
    {
     "name": "stdout",
     "output_type": "stream",
     "text": [
      "2 elevato alla 1 : 2\n",
      "2 elevato alla 2 : 4\n",
      "2 elevato alla 3 : 8\n",
      "2 elevato alla 4 : 16\n",
      "2 elevato alla 5 : 32\n",
      "2 elevato alla 6 : 64\n",
      "2 elevato alla 7 : 128\n",
      "2 elevato alla 8 : 256\n",
      "2 elevato alla 9 : 512\n",
      "2 elevato alla 10 : 1024\n"
     ]
    }
   ],
   "source": [
    "for i in range(1, 11):  # Genera i primi 10 numeri da 1 a 10\n",
    "    potenza = 2 ** i  # Calcola la potenza di 2\n",
    "    print(\"2 elevato alla\", i, \":\", potenza)  # Stampa la potenza di 2"
   ]
  },
  {
   "cell_type": "code",
   "execution_count": 19,
   "id": "429a56bd-c406-43c7-99f7-aacbfd91df22",
   "metadata": {},
   "outputs": [
    {
     "name": "stdin",
     "output_type": "stream",
     "text": [
      "inserisci il numero: 2\n",
      "inserisci il numero di potenze da calcolare: 15\n"
     ]
    },
    {
     "name": "stdout",
     "output_type": "stream",
     "text": [
      "Lista delle 15 potenze di 2 : [2, 4, 8, 16, 32, 64, 128, 256, 512, 1024, 2048, 4096, 8192, 16384, 32768]\n"
     ]
    }
   ],
   "source": [
    "k = int(input(\"inserisci il numero:\"))\n",
    "n = int(input(\"inserisci il numero di potenze da calcolare:\"))\n",
    "potenze = []\n",
    "i = 0\n",
    "while i <= n -1:\n",
    "    i += 1\n",
    "    eleva = k ** i\n",
    "    potenze.append(eleva)\n",
    "    \n",
    "print(\"Lista delle\", n, \"potenze di\", k, \":\", potenze)"
   ]
  },
  {
   "cell_type": "code",
   "execution_count": 16,
   "id": "ba219cf2-ee3b-4f52-9be4-0df05da6bb4a",
   "metadata": {},
   "outputs": [
    {
     "name": "stdin",
     "output_type": "stream",
     "text": [
      "Inserisci il numero: 2\n",
      "inserisci il numero di potenze da elevare: 10\n"
     ]
    },
    {
     "name": "stdout",
     "output_type": "stream",
     "text": [
      "Lista delle 10 potenze di 2 : [2, 4, 8, 16, 32, 64, 128, 256, 512, 1024]\n"
     ]
    }
   ],
   "source": [
    "k = int(input(\"Inserisci il numero:\"))\n",
    "n = int(input(\"inserisci il numero di potenze da elevare:\"))\n",
    "potenze = []\n",
    "for i in range(1, n + 1):\n",
    "   eleva = k ** i\n",
    "   potenze.append(eleva)\n",
    "print(\"Lista delle\", n, \"potenze di\", k, \":\", potenze)"
   ]
  },
  {
   "cell_type": "code",
   "execution_count": 22,
   "id": "1b98aef5-a7ef-4ec8-a159-b4ec56c009a1",
   "metadata": {},
   "outputs": [
    {
     "name": "stdout",
     "output_type": "stream",
     "text": [
      "La media dei guadagni è: 70.0\n"
     ]
    }
   ],
   "source": [
    "guadagni = [100, 90, 70, 40, 50, 80, 90, 120, 80, 20, 50, 50]\n",
    "somma_guadagni = 0\n",
    "for guadagno in guadagni:\n",
    "    somma_guadagni += guadagno\n",
    "media_guadagni = somma_guadagni / len(guadagni)\n",
    "\n",
    "print(\"La media dei guadagni è:\", media_guadagni)"
   ]
  },
  {
   "cell_type": "code",
   "execution_count": 28,
   "id": "184816e3-2b32-478e-90fc-5c207b311159",
   "metadata": {},
   "outputs": [
    {
     "name": "stdout",
     "output_type": "stream",
     "text": [
      "Nella parola 'Albergo' ci sono 1 'e'.\n",
      "Nella parola 'Sedia' ci sono 1 'e'.\n",
      "Nella parola 'Borgo' ci sono 0 'e'.\n",
      "Nella parola 'Petalo' ci sono 1 'e'.\n",
      "Nella parola 'Eremo' ci sono 2 'e'.\n",
      "Nella parola 'Belvedere' ci sono 4 'e'.\n",
      "Nella parola 'Semestre' ci sono 3 'e'.\n",
      "Nella parola 'Esteta' ci sono 2 'e'.\n",
      "Nella parola 'Sosta' ci sono 0 'e'.\n",
      "Nella parola 'Orpello' ci sono 1 'e'.\n",
      "Nella parola 'Abete' ci sono 2 'e'.\n",
      "Nella parola 'Orologio' ci sono 0 'e'.\n",
      "Nella parola 'Cesta' ci sono 1 'e'.\n",
      "Nella parola 'Ermellino' ci sono 2 'e'.\n"
     ]
    }
   ],
   "source": [
    "parole = [\"Albergo\", \"Sedia\", \"Borgo\", \"Petalo\", \"Eremo\", \"Belvedere\", \"Semestre\", \"Esteta\", \"Sosta\", \"Orpello\", \"Abete\", \"Orologio\", \"Cesta\", \"Ermellino\"]\n",
    "\n",
    "# Inizializza un dizionario per memorizzare il conteggio di \"e\" per ogni parola\n",
    "conteggio_e = {}\n",
    "\n",
    "# Itera attraverso ogni parola nella lista\n",
    "for parola in parole:\n",
    "    # Inizializza il conteggio di \"e\" per questa parola\n",
    "    conteggio_parola = 0\n",
    "    # Itera attraverso ogni lettera nella parola\n",
    "    for lettera in parola:\n",
    "        # Controlla se la lettera è una \"e\" (sia maiuscola che minuscola)\n",
    "        if lettera.lower() == 'e':\n",
    "            # Incrementa il conteggio di \"e\" per questa parola\n",
    "            conteggio_parola += 1\n",
    "    # Aggiungi il conteggio di \"e\" per questa parola al dizionario\n",
    "    conteggio_e[parola] = conteggio_parola\n",
    "\n",
    "# Stampare il conteggio di \"e\" per ogni parola\n",
    "for parola, conteggio in conteggio_e.items():\n",
    "    print(f\"Nella parola '{parola}' ci sono {conteggio} 'e'.\")"
   ]
  },
  {
   "cell_type": "code",
   "execution_count": 46,
   "id": "b09ed368-37cc-451d-9b61-78b50285597c",
   "metadata": {},
   "outputs": [
    {
     "name": "stdout",
     "output_type": "stream",
     "text": [
      "Dizionario completo:\n",
      "{'Ada': 'Punto', 'Ben': 'Multipla', 'Charlie': 'Golf', 'Debbie': '107'}\n",
      "L'auto associata a Debbie è: 107\n"
     ]
    }
   ],
   "source": [
    "dizionario_auto = {\"Ada\": \"Punto\",\"Ben\": \"Multipla\",\"Charlie\": \"Golf\",\"Debbie\": \"107\"}\n",
    "\n",
    "# Stampare il dizionario per intero\n",
    "print(\"Dizionario completo:\")\n",
    "print(dizionario_auto)\n",
    "\n",
    "# Ottenere l'auto associata a Debbie\n",
    "auto_debbie = dizionario_auto[\"Debbie\"]\n",
    "print(\"L'auto associata a Debbie è:\", auto_debbie)"
   ]
  },
  {
   "cell_type": "code",
   "execution_count": 45,
   "id": "4d7bcdf7-93e7-4dd5-a69e-a258d39c49e4",
   "metadata": {},
   "outputs": [
    {
     "name": "stdout",
     "output_type": "stream",
     "text": [
      "Auto che non sono una multipla:\n",
      "Punto\n",
      "Golf\n",
      "107\n"
     ]
    }
   ],
   "source": [
    "dizionario_auto = {\"Ada\": \"Punto\", \"Ben\": \"Multipla\", \"Charlie\": \"Golf\", \"Debbie\": \"107\"}\n",
    "\n",
    "\n",
    "print(\"Auto che non sono una multipla:\")\n",
    "for auto in dizionario_auto.values():\n",
    " if auto != \"Multipla\":\n",
    "    print(auto)"
   ]
  }
 ],
 "metadata": {
  "kernelspec": {
   "display_name": "Python 3 (ipykernel)",
   "language": "python",
   "name": "python3"
  },
  "language_info": {
   "codemirror_mode": {
    "name": "ipython",
    "version": 3
   },
   "file_extension": ".py",
   "mimetype": "text/x-python",
   "name": "python",
   "nbconvert_exporter": "python",
   "pygments_lexer": "ipython3",
   "version": "3.11.7"
  }
 },
 "nbformat": 4,
 "nbformat_minor": 5
}
